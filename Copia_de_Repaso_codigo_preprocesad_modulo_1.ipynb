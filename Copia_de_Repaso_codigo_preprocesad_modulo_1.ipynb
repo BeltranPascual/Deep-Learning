{
  "nbformat": 4,
  "nbformat_minor": 0,
  "metadata": {
    "colab": {
      "name": "Copia de Repaso_codigo_preprocesad_modulo_1.ipynb",
      "provenance": [],
      "authorship_tag": "ABX9TyNZj/rwt4+Kql8pPTqe2gou",
      "include_colab_link": true
    },
    "kernelspec": {
      "name": "ir",
      "display_name": "R"
    },
    "language_info": {
      "name": "R"
    }
  },
  "cells": [
    {
      "cell_type": "markdown",
      "metadata": {
        "id": "view-in-github",
        "colab_type": "text"
      },
      "source": [
        "<a href=\"https://colab.research.google.com/github/BeltranPascual/Deep-Learning/blob/master/Copia_de_Repaso_codigo_preprocesad_modulo_1.ipynb\" target=\"_parent\"><img src=\"https://colab.research.google.com/assets/colab-badge.svg\" alt=\"Open In Colab\"/></a>"
      ]
    },
    {
      "cell_type": "code",
      "execution_count": null,
      "metadata": {
        "id": "XwIlGV94RPrL"
      },
      "outputs": [],
      "source": [
        "datos <- read.csv(\"/content/sample_data/california_housing_test.csv\")"
      ]
    },
    {
      "cell_type": "code",
      "source": [
        "datos <- read.csv(\"/BostonHousing.csv\")"
      ],
      "metadata": {
        "id": "ZhCgnRRMSB9h"
      },
      "execution_count": null,
      "outputs": []
    },
    {
      "cell_type": "code",
      "source": [
        "summary(datos)"
      ],
      "metadata": {
        "colab": {
          "base_uri": "https://localhost:8080/",
          "height": 503
        },
        "id": "x00Vo4ZaRo2C",
        "outputId": "9e2315ff-840e-4c22-da7a-60e86f4bc343"
      },
      "execution_count": null,
      "outputs": [
        {
          "output_type": "display_data",
          "data": {
            "text/plain": [
              "      crim                zn             indus            chas        \n",
              " Min.   : 0.00632   Min.   :  0.00   Min.   : 0.46   Min.   :0.00000  \n",
              " 1st Qu.: 0.08205   1st Qu.:  0.00   1st Qu.: 5.19   1st Qu.:0.00000  \n",
              " Median : 0.25651   Median :  0.00   Median : 9.69   Median :0.00000  \n",
              " Mean   : 3.61352   Mean   : 11.36   Mean   :11.14   Mean   :0.06917  \n",
              " 3rd Qu.: 3.67708   3rd Qu.: 12.50   3rd Qu.:18.10   3rd Qu.:0.00000  \n",
              " Max.   :88.97620   Max.   :100.00   Max.   :27.74   Max.   :1.00000  \n",
              "      nox               rm             age              dis        \n",
              " Min.   :0.3850   Min.   :3.561   Min.   :  2.90   Min.   : 1.130  \n",
              " 1st Qu.:0.4490   1st Qu.:5.886   1st Qu.: 45.02   1st Qu.: 2.100  \n",
              " Median :0.5380   Median :6.208   Median : 77.50   Median : 3.207  \n",
              " Mean   :0.5547   Mean   :6.285   Mean   : 68.57   Mean   : 3.795  \n",
              " 3rd Qu.:0.6240   3rd Qu.:6.623   3rd Qu.: 94.08   3rd Qu.: 5.188  \n",
              " Max.   :0.8710   Max.   :8.780   Max.   :100.00   Max.   :12.127  \n",
              "      rad              tax           ptratio            b         \n",
              " Min.   : 1.000   Min.   :187.0   Min.   :12.60   Min.   :  0.32  \n",
              " 1st Qu.: 4.000   1st Qu.:279.0   1st Qu.:17.40   1st Qu.:375.38  \n",
              " Median : 5.000   Median :330.0   Median :19.05   Median :391.44  \n",
              " Mean   : 9.549   Mean   :408.2   Mean   :18.46   Mean   :356.67  \n",
              " 3rd Qu.:24.000   3rd Qu.:666.0   3rd Qu.:20.20   3rd Qu.:396.23  \n",
              " Max.   :24.000   Max.   :711.0   Max.   :22.00   Max.   :396.90  \n",
              "     lstat            medv      \n",
              " Min.   : 1.73   Min.   : 5.00  \n",
              " 1st Qu.: 6.95   1st Qu.:17.02  \n",
              " Median :11.36   Median :21.20  \n",
              " Mean   :12.65   Mean   :22.53  \n",
              " 3rd Qu.:16.95   3rd Qu.:25.00  \n",
              " Max.   :37.97   Max.   :50.00  "
            ]
          },
          "metadata": {}
        }
      ]
    },
    {
      "cell_type": "code",
      "source": [
        "install.packages(\"funModeling\")"
      ],
      "metadata": {
        "colab": {
          "base_uri": "https://localhost:8080/"
        },
        "id": "BqSaVFxvSf2x",
        "outputId": "3034b106-6a00-4cf9-c2b4-34ed1f0512aa"
      },
      "execution_count": null,
      "outputs": [
        {
          "output_type": "stream",
          "name": "stderr",
          "text": [
            "Installing package into ‘/usr/local/lib/R/site-library’\n",
            "(as ‘lib’ is unspecified)\n",
            "\n",
            "also installing the dependencies ‘bitops’, ‘png’, ‘jpeg’, ‘checkmate’, ‘htmlwidgets’, ‘gtools’, ‘caTools’, ‘Formula’, ‘latticeExtra’, ‘htmlTable’, ‘viridis’, ‘gplots’, ‘plyr’, ‘Hmisc’, ‘ROCR’, ‘gridExtra’, ‘pander’, ‘reshape2’, ‘lazyeval’, ‘moments’, ‘entropy’\n",
            "\n",
            "\n"
          ]
        }
      ]
    },
    {
      "cell_type": "code",
      "source": [
        "library(funModeling)\n",
        "status(datos)"
      ],
      "metadata": {
        "colab": {
          "base_uri": "https://localhost:8080/",
          "height": 936
        },
        "id": "THhK2O3ITj0I",
        "outputId": "369da15d-c49e-4b20-a356-57d57c15e469"
      },
      "execution_count": null,
      "outputs": [
        {
          "output_type": "stream",
          "name": "stderr",
          "text": [
            "Loading required package: Hmisc\n",
            "\n",
            "Loading required package: lattice\n",
            "\n",
            "Loading required package: survival\n",
            "\n",
            "Loading required package: Formula\n",
            "\n",
            "Loading required package: ggplot2\n",
            "\n",
            "\n",
            "Attaching package: ‘Hmisc’\n",
            "\n",
            "\n",
            "The following objects are masked from ‘package:base’:\n",
            "\n",
            "    format.pval, units\n",
            "\n",
            "\n",
            "funModeling v.1.9.4 :)\n",
            "Examples and tutorials at livebook.datascienceheroes.com\n",
            " / Now in Spanish: librovivodecienciadedatos.ai\n",
            "\n"
          ]
        },
        {
          "output_type": "display_data",
          "data": {
            "text/plain": [
              "        variable q_zeros p_zeros   q_na p_na q_inf p_inf type    unique\n",
              "crim    crim       0     0.0000000 0    0    0     0     numeric 504   \n",
              "zn      zn       372     0.7351779 0    0    0     0     numeric  26   \n",
              "indus   indus      0     0.0000000 0    0    0     0     numeric  76   \n",
              "chas    chas     471     0.9308300 0    0    0     0     integer   2   \n",
              "nox     nox        0     0.0000000 0    0    0     0     numeric  81   \n",
              "rm      rm         0     0.0000000 0    0    0     0     numeric 446   \n",
              "age     age        0     0.0000000 0    0    0     0     numeric 356   \n",
              "dis     dis        0     0.0000000 0    0    0     0     numeric 412   \n",
              "rad     rad        0     0.0000000 0    0    0     0     integer   9   \n",
              "tax     tax        0     0.0000000 0    0    0     0     integer  66   \n",
              "ptratio ptratio    0     0.0000000 0    0    0     0     numeric  46   \n",
              "b       b          0     0.0000000 0    0    0     0     numeric 357   \n",
              "lstat   lstat      0     0.0000000 0    0    0     0     numeric 455   \n",
              "medv    medv       0     0.0000000 0    0    0     0     numeric 229   "
            ],
            "text/latex": "A data.frame: 14 × 9\n\\begin{tabular}{r|lllllllll}\n  & variable & q\\_zeros & p\\_zeros & q\\_na & p\\_na & q\\_inf & p\\_inf & type & unique\\\\\n  & <chr> & <int> & <dbl> & <int> & <dbl> & <int> & <dbl> & <chr> & <int>\\\\\n\\hline\n\tcrim & crim    &   0 & 0.0000000 & 0 & 0 & 0 & 0 & numeric & 504\\\\\n\tzn & zn      & 372 & 0.7351779 & 0 & 0 & 0 & 0 & numeric &  26\\\\\n\tindus & indus   &   0 & 0.0000000 & 0 & 0 & 0 & 0 & numeric &  76\\\\\n\tchas & chas    & 471 & 0.9308300 & 0 & 0 & 0 & 0 & integer &   2\\\\\n\tnox & nox     &   0 & 0.0000000 & 0 & 0 & 0 & 0 & numeric &  81\\\\\n\trm & rm      &   0 & 0.0000000 & 0 & 0 & 0 & 0 & numeric & 446\\\\\n\tage & age     &   0 & 0.0000000 & 0 & 0 & 0 & 0 & numeric & 356\\\\\n\tdis & dis     &   0 & 0.0000000 & 0 & 0 & 0 & 0 & numeric & 412\\\\\n\trad & rad     &   0 & 0.0000000 & 0 & 0 & 0 & 0 & integer &   9\\\\\n\ttax & tax     &   0 & 0.0000000 & 0 & 0 & 0 & 0 & integer &  66\\\\\n\tptratio & ptratio &   0 & 0.0000000 & 0 & 0 & 0 & 0 & numeric &  46\\\\\n\tb & b       &   0 & 0.0000000 & 0 & 0 & 0 & 0 & numeric & 357\\\\\n\tlstat & lstat   &   0 & 0.0000000 & 0 & 0 & 0 & 0 & numeric & 455\\\\\n\tmedv & medv    &   0 & 0.0000000 & 0 & 0 & 0 & 0 & numeric & 229\\\\\n\\end{tabular}\n",
            "text/markdown": "\nA data.frame: 14 × 9\n\n| <!--/--> | variable &lt;chr&gt; | q_zeros &lt;int&gt; | p_zeros &lt;dbl&gt; | q_na &lt;int&gt; | p_na &lt;dbl&gt; | q_inf &lt;int&gt; | p_inf &lt;dbl&gt; | type &lt;chr&gt; | unique &lt;int&gt; |\n|---|---|---|---|---|---|---|---|---|---|\n| crim | crim    |   0 | 0.0000000 | 0 | 0 | 0 | 0 | numeric | 504 |\n| zn | zn      | 372 | 0.7351779 | 0 | 0 | 0 | 0 | numeric |  26 |\n| indus | indus   |   0 | 0.0000000 | 0 | 0 | 0 | 0 | numeric |  76 |\n| chas | chas    | 471 | 0.9308300 | 0 | 0 | 0 | 0 | integer |   2 |\n| nox | nox     |   0 | 0.0000000 | 0 | 0 | 0 | 0 | numeric |  81 |\n| rm | rm      |   0 | 0.0000000 | 0 | 0 | 0 | 0 | numeric | 446 |\n| age | age     |   0 | 0.0000000 | 0 | 0 | 0 | 0 | numeric | 356 |\n| dis | dis     |   0 | 0.0000000 | 0 | 0 | 0 | 0 | numeric | 412 |\n| rad | rad     |   0 | 0.0000000 | 0 | 0 | 0 | 0 | integer |   9 |\n| tax | tax     |   0 | 0.0000000 | 0 | 0 | 0 | 0 | integer |  66 |\n| ptratio | ptratio |   0 | 0.0000000 | 0 | 0 | 0 | 0 | numeric |  46 |\n| b | b       |   0 | 0.0000000 | 0 | 0 | 0 | 0 | numeric | 357 |\n| lstat | lstat   |   0 | 0.0000000 | 0 | 0 | 0 | 0 | numeric | 455 |\n| medv | medv    |   0 | 0.0000000 | 0 | 0 | 0 | 0 | numeric | 229 |\n\n",
            "text/html": [
              "<table class=\"dataframe\">\n",
              "<caption>A data.frame: 14 × 9</caption>\n",
              "<thead>\n",
              "\t<tr><th></th><th scope=col>variable</th><th scope=col>q_zeros</th><th scope=col>p_zeros</th><th scope=col>q_na</th><th scope=col>p_na</th><th scope=col>q_inf</th><th scope=col>p_inf</th><th scope=col>type</th><th scope=col>unique</th></tr>\n",
              "\t<tr><th></th><th scope=col>&lt;chr&gt;</th><th scope=col>&lt;int&gt;</th><th scope=col>&lt;dbl&gt;</th><th scope=col>&lt;int&gt;</th><th scope=col>&lt;dbl&gt;</th><th scope=col>&lt;int&gt;</th><th scope=col>&lt;dbl&gt;</th><th scope=col>&lt;chr&gt;</th><th scope=col>&lt;int&gt;</th></tr>\n",
              "</thead>\n",
              "<tbody>\n",
              "\t<tr><th scope=row>crim</th><td>crim   </td><td>  0</td><td>0.0000000</td><td>0</td><td>0</td><td>0</td><td>0</td><td>numeric</td><td>504</td></tr>\n",
              "\t<tr><th scope=row>zn</th><td>zn     </td><td>372</td><td>0.7351779</td><td>0</td><td>0</td><td>0</td><td>0</td><td>numeric</td><td> 26</td></tr>\n",
              "\t<tr><th scope=row>indus</th><td>indus  </td><td>  0</td><td>0.0000000</td><td>0</td><td>0</td><td>0</td><td>0</td><td>numeric</td><td> 76</td></tr>\n",
              "\t<tr><th scope=row>chas</th><td>chas   </td><td>471</td><td>0.9308300</td><td>0</td><td>0</td><td>0</td><td>0</td><td>integer</td><td>  2</td></tr>\n",
              "\t<tr><th scope=row>nox</th><td>nox    </td><td>  0</td><td>0.0000000</td><td>0</td><td>0</td><td>0</td><td>0</td><td>numeric</td><td> 81</td></tr>\n",
              "\t<tr><th scope=row>rm</th><td>rm     </td><td>  0</td><td>0.0000000</td><td>0</td><td>0</td><td>0</td><td>0</td><td>numeric</td><td>446</td></tr>\n",
              "\t<tr><th scope=row>age</th><td>age    </td><td>  0</td><td>0.0000000</td><td>0</td><td>0</td><td>0</td><td>0</td><td>numeric</td><td>356</td></tr>\n",
              "\t<tr><th scope=row>dis</th><td>dis    </td><td>  0</td><td>0.0000000</td><td>0</td><td>0</td><td>0</td><td>0</td><td>numeric</td><td>412</td></tr>\n",
              "\t<tr><th scope=row>rad</th><td>rad    </td><td>  0</td><td>0.0000000</td><td>0</td><td>0</td><td>0</td><td>0</td><td>integer</td><td>  9</td></tr>\n",
              "\t<tr><th scope=row>tax</th><td>tax    </td><td>  0</td><td>0.0000000</td><td>0</td><td>0</td><td>0</td><td>0</td><td>integer</td><td> 66</td></tr>\n",
              "\t<tr><th scope=row>ptratio</th><td>ptratio</td><td>  0</td><td>0.0000000</td><td>0</td><td>0</td><td>0</td><td>0</td><td>numeric</td><td> 46</td></tr>\n",
              "\t<tr><th scope=row>b</th><td>b      </td><td>  0</td><td>0.0000000</td><td>0</td><td>0</td><td>0</td><td>0</td><td>numeric</td><td>357</td></tr>\n",
              "\t<tr><th scope=row>lstat</th><td>lstat  </td><td>  0</td><td>0.0000000</td><td>0</td><td>0</td><td>0</td><td>0</td><td>numeric</td><td>455</td></tr>\n",
              "\t<tr><th scope=row>medv</th><td>medv   </td><td>  0</td><td>0.0000000</td><td>0</td><td>0</td><td>0</td><td>0</td><td>numeric</td><td>229</td></tr>\n",
              "</tbody>\n",
              "</table>\n"
            ]
          },
          "metadata": {}
        }
      ]
    }
  ]
}