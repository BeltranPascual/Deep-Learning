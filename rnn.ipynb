{
  "nbformat": 4,
  "nbformat_minor": 0,
  "metadata": {
    "colab": {
      "name": "rnn",
      "provenance": [],
      "collapsed_sections": [],
      "include_colab_link": true
    },
    "kernelspec": {
      "name": "python3",
      "display_name": "Python 3"
    }
  },
  "cells": [
    {
      "cell_type": "markdown",
      "metadata": {
        "id": "view-in-github",
        "colab_type": "text"
      },
      "source": [
        "<a href=\"https://colab.research.google.com/github/BeltranPascual/Deep-Learning/blob/master/rnn.ipynb\" target=\"_parent\"><img src=\"https://colab.research.google.com/assets/colab-badge.svg\" alt=\"Open In Colab\"/></a>"
      ]
    },
    {
      "cell_type": "markdown",
      "metadata": {
        "id": "sogHZxHmobSc",
        "colab_type": "text"
      },
      "source": [
        "# Red neuronal recurrente\n",
        "# Parte 1 - Preprocesamiento de datos\n",
        "# Importación de las bibliotecas"
      ]
    },
    {
      "cell_type": "code",
      "metadata": {
        "id": "NORiwS3XoruG",
        "colab_type": "code",
        "colab": {}
      },
      "source": [
        "import numpy as np\n",
        "import matplotlib.pyplot as plt\n",
        "import pandas as pd"
      ],
      "execution_count": 0,
      "outputs": []
    },
    {
      "cell_type": "markdown",
      "metadata": {
        "id": "92xMGuwtougi",
        "colab_type": "text"
      },
      "source": [
        "# Importando el set de entrenamiento"
      ]
    },
    {
      "cell_type": "code",
      "metadata": {
        "id": "NkKYK2A3o2SZ",
        "colab_type": "code",
        "colab": {}
      },
      "source": [
        "dataset_train = pd.read_csv('Google_Stock_Price_Train.csv')\n",
        "training_set = dataset_train.iloc[:, 1:2].values"
      ],
      "execution_count": 0,
      "outputs": []
    },
    {
      "cell_type": "markdown",
      "metadata": {
        "id": "ulJVu5Lfo4Zu",
        "colab_type": "text"
      },
      "source": [
        "# Escalado de características"
      ]
    },
    {
      "cell_type": "code",
      "metadata": {
        "id": "4-xcRFJFo734",
        "colab_type": "code",
        "colab": {}
      },
      "source": [
        "from sklearn.preprocessing import MinMaxScaler\n",
        "sc = MinMaxScaler(feature_range = (0, 1))\n",
        "training_set_scaled = sc.fit_transform(training_set)"
      ],
      "execution_count": 0,
      "outputs": []
    },
    {
      "cell_type": "markdown",
      "metadata": {
        "id": "GkQ3bbYoo-L-",
        "colab_type": "text"
      },
      "source": [
        "# Creación de una estructura de datos con 60 pasos de tiempo y 1 salida"
      ]
    },
    {
      "cell_type": "code",
      "metadata": {
        "id": "0kdGiNVmpDAd",
        "colab_type": "code",
        "colab": {}
      },
      "source": [
        "X_train = []\n",
        "y_train = []\n",
        "for i in range(60, 1258):\n",
        "    X_train.append(training_set_scaled[i-60:i, 0])\n",
        "    y_train.append(training_set_scaled[i, 0])\n",
        "X_train, y_train = np.array(X_train), np.array(y_train)\n"
      ],
      "execution_count": 0,
      "outputs": []
    },
    {
      "cell_type": "markdown",
      "metadata": {
        "id": "_ZVDaGlCpGU7",
        "colab_type": "text"
      },
      "source": [
        "# Remodelación"
      ]
    },
    {
      "cell_type": "code",
      "metadata": {
        "id": "zElRLj0KpKSD",
        "colab_type": "code",
        "colab": {}
      },
      "source": [
        "X_train = np.reshape(X_train, (X_train.shape[0], X_train.shape[1], 1))"
      ],
      "execution_count": 0,
      "outputs": []
    },
    {
      "cell_type": "markdown",
      "metadata": {
        "id": "n9rMhnkmpNGZ",
        "colab_type": "text"
      },
      "source": [
        "# Parte 2 - Construyendo el RNN\n",
        "\n",
        "# Importación de las librerías y paquetes Keras"
      ]
    },
    {
      "cell_type": "code",
      "metadata": {
        "id": "LJPP8wZSpU9J",
        "colab_type": "code",
        "colab": {}
      },
      "source": [
        "from keras.models import Sequential\n",
        "from keras.layers import Dense\n",
        "from keras.layers import LSTM\n",
        "from keras.layers import Dropout"
      ],
      "execution_count": 0,
      "outputs": []
    },
    {
      "cell_type": "markdown",
      "metadata": {
        "id": "ZNl-JoCmpXx7",
        "colab_type": "text"
      },
      "source": [
        "# Inicializando el RNN"
      ]
    },
    {
      "cell_type": "code",
      "metadata": {
        "id": "UGRZNmmmqZ-0",
        "colab_type": "code",
        "colab": {}
      },
      "source": [
        "regressor = Sequential()"
      ],
      "execution_count": 0,
      "outputs": []
    },
    {
      "cell_type": "markdown",
      "metadata": {
        "id": "KAC_uGtkqcSo",
        "colab_type": "text"
      },
      "source": [
        "# Añadiendo la primera capa de LSTM y algo de regularización de la deserción"
      ]
    },
    {
      "cell_type": "code",
      "metadata": {
        "id": "-LOkDNu5rsFC",
        "colab_type": "code",
        "colab": {}
      },
      "source": [
        "regressor.add(LSTM(units = 50, return_sequences = True, input_shape = (X_train.shape[1], 1)))\n",
        "regressor.add(Dropout(0.2))"
      ],
      "execution_count": 0,
      "outputs": []
    },
    {
      "cell_type": "markdown",
      "metadata": {
        "id": "GWEUlWimruVq",
        "colab_type": "text"
      },
      "source": [
        "# Añadiendo la segunda capa de LSTM y algo de regularización de la deserción"
      ]
    },
    {
      "cell_type": "code",
      "metadata": {
        "id": "PimAnEvjr2ca",
        "colab_type": "code",
        "colab": {}
      },
      "source": [
        "regressor.add(LSTM(units = 50, return_sequences = True))\n",
        "regressor.add(Dropout(0.2))"
      ],
      "execution_count": 0,
      "outputs": []
    },
    {
      "cell_type": "markdown",
      "metadata": {
        "id": "4g9EvnFVsaBA",
        "colab_type": "text"
      },
      "source": [
        "# Añadiendo la tercera capa de LSTM y algo de regularización de la deserción"
      ]
    },
    {
      "cell_type": "code",
      "metadata": {
        "id": "moJoVufrsbBQ",
        "colab_type": "code",
        "colab": {}
      },
      "source": [
        "regressor.add(LSTM(units = 50, return_sequences = True))\n",
        "regressor.add(Dropout(0.2))"
      ],
      "execution_count": 0,
      "outputs": []
    },
    {
      "cell_type": "markdown",
      "metadata": {
        "id": "6MPhdL_Bsf9w",
        "colab_type": "text"
      },
      "source": [
        "\n",
        "# Añadiendo la cuarta capa de LSTM y algo de regularización de la deserción"
      ]
    },
    {
      "cell_type": "code",
      "metadata": {
        "id": "tdK6l_QPsn0Z",
        "colab_type": "code",
        "colab": {}
      },
      "source": [
        "regressor.add(LSTM(units = 50))\n",
        "regressor.add(Dropout(0.2))"
      ],
      "execution_count": 0,
      "outputs": []
    },
    {
      "cell_type": "markdown",
      "metadata": {
        "id": "KqcX3NGRt4MX",
        "colab_type": "text"
      },
      "source": [
        "# Añadiendo la capa de salida"
      ]
    },
    {
      "cell_type": "code",
      "metadata": {
        "id": "S7SGt7R3t5g3",
        "colab_type": "code",
        "colab": {}
      },
      "source": [
        "regressor.add(Dense(units = 1))"
      ],
      "execution_count": 0,
      "outputs": []
    },
    {
      "cell_type": "markdown",
      "metadata": {
        "id": "1yLoH7bit7ug",
        "colab_type": "text"
      },
      "source": [
        "# Compilación del RNN"
      ]
    },
    {
      "cell_type": "code",
      "metadata": {
        "id": "QNKgqhftuA68",
        "colab_type": "code",
        "colab": {}
      },
      "source": [
        "regressor.compile(optimizer = 'adam', loss = 'mean_squared_error')"
      ],
      "execution_count": 0,
      "outputs": []
    },
    {
      "cell_type": "markdown",
      "metadata": {
        "id": "3eVdLjLquEH2",
        "colab_type": "text"
      },
      "source": [
        "# Ajustar el RNN al set de entrenamiento"
      ]
    },
    {
      "cell_type": "code",
      "metadata": {
        "id": "QD3H9yp7uNyJ",
        "colab_type": "code",
        "colab": {}
      },
      "source": [
        "regressor.fit(X_train, y_train, epochs = 100, batch_size = 32)"
      ],
      "execution_count": 0,
      "outputs": []
    },
    {
      "cell_type": "markdown",
      "metadata": {
        "id": "qI-r3O-4uQEb",
        "colab_type": "text"
      },
      "source": [
        "# Parte 3 - Hacer las predicciones y visualizar los resultados\n",
        "\n",
        "# Obtención del precio real de las acciones de 2017"
      ]
    },
    {
      "cell_type": "code",
      "metadata": {
        "id": "d9H2pee7uahN",
        "colab_type": "code",
        "colab": {}
      },
      "source": [
        "dataset_test = pd.read_csv('Google_Stock_Price_Test.csv')\n",
        "real_stock_price = dataset_test.iloc[:, 1:2].values"
      ],
      "execution_count": 0,
      "outputs": []
    },
    {
      "cell_type": "markdown",
      "metadata": {
        "id": "-G6NTUV9uccN",
        "colab_type": "text"
      },
      "source": [
        "# Obtención del precio de las acciones previsto para 2017"
      ]
    },
    {
      "cell_type": "code",
      "metadata": {
        "id": "Bzx_j9Tvuhzn",
        "colab_type": "code",
        "colab": {}
      },
      "source": [
        "dataset_total = pd.concat((dataset_train['Open'], dataset_test['Open']), axis = 0)\n",
        "inputs = dataset_total[len(dataset_total) - len(dataset_test) - 60:].values\n",
        "inputs = inputs.reshape(-1,1)\n",
        "inputs = sc.transform(inputs)\n",
        "X_test = []\n",
        "for i in range(60, 80):\n",
        "    X_test.append(inputs[i-60:i, 0])\n",
        "X_test = np.array(X_test)\n",
        "X_test = np.reshape(X_test, (X_test.shape[0], X_test.shape[1], 1))\n",
        "predicted_stock_price = regressor.predict(X_test)\n",
        "predicted_stock_price = sc.inverse_transform(predicted_stock_price)"
      ],
      "execution_count": 0,
      "outputs": []
    },
    {
      "cell_type": "markdown",
      "metadata": {
        "id": "mqeOSTQUukFL",
        "colab_type": "text"
      },
      "source": [
        "# Visualización de los resultados"
      ]
    },
    {
      "cell_type": "code",
      "metadata": {
        "id": "ejrIvoNJuqKl",
        "colab_type": "code",
        "colab": {}
      },
      "source": [
        "plt.plot(real_stock_price, color = 'red', label = 'Real Google Stock Price')\n",
        "plt.plot(predicted_stock_price, color = 'blue', label = 'Predicted Google Stock Price')\n",
        "plt.title('Google Stock Price Prediction')\n",
        "plt.xlabel('Time')\n",
        "plt.ylabel('Google Stock Price')\n",
        "plt.legend()\n",
        "plt.show()"
      ],
      "execution_count": 0,
      "outputs": []
    }
  ]
}